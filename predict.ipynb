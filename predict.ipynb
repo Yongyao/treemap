{
 "cells": [
  {
   "cell_type": "code",
   "execution_count": 62,
   "metadata": {},
   "outputs": [],
   "source": [
    "%matplotlib inline\n",
    "import skimage.io as io\n",
    "from osgeo import gdal, gdal_array\n",
    "import numpy as np\n",
    "import matplotlib.pyplot as plt\n",
    "import subprocess\n",
    "from sklearn.ensemble import RandomForestClassifier\n",
    "from sklearn import metrics, cross_validation\n",
    "from sklearn.model_selection import GridSearchCV, train_test_split\n",
    "from sklearn.externals import joblib"
   ]
  },
  {
   "cell_type": "code",
   "execution_count": 72,
   "metadata": {},
   "outputs": [
    {
     "name": "stdout",
     "output_type": "stream",
     "text": [
      "warp_1 succeeded\n",
      "warp_2 succeeded\n",
      "merge succeeded\n"
     ]
    }
   ],
   "source": [
    "landsat_b1_path = '/Users/yjiang/Downloads/landsat/LE07_L1TP_118061_20100813_20161213_01_T1_B1.TIF'\n",
    "landsat_b1_ds = gdal.Open(landsat_path, gdal.GA_ReadOnly)\n",
    "prj = landsat_b1_ds.GetProjection()\n",
    "\n",
    "source_prj = 'EPSG:4326'\n",
    "dest_prj = prj\n",
    "in_path_1 = '/Users/yjiang/Downloads/alos/ALPSRP164767170-L1.5/IMG-HH-ALPSRP164767170.tif'\n",
    "out_path_1 = '/Users/yjiang/Downloads/alos/ALPSRP164767170-L1.5/test1.tif'\n",
    "ret = subprocess.check_call(['gdalwarp', '-overwrite', '-s_srs', source_prj, '-t_srs', dest_prj, '-tr', '30', '-30', '-of', 'GTiff', in_path_1, out_path_1])\n",
    "if ret == 0: \n",
    "     print 'warp_1 succeeded'\n",
    "else:\n",
    "     print 'warp_1 failed'\n",
    "\n",
    "in_path_2 = '/Users/yjiang/Downloads/alos/ALPSRP164767160-L1.5/IMG-HH-ALPSRP164767160.tif'\n",
    "out_path_2 = '/Users/yjiang/Downloads/alos/ALPSRP164767160-L1.5/test2.tif'\n",
    "ret = subprocess.check_call(['gdalwarp', '-overwrite', '-s_srs', source_prj, '-t_srs', dest_prj, '-tr', '30', '-30', '-of', 'GTiff', in_path_2, out_path_2])\n",
    "if ret == 0: \n",
    "     print 'warp_2 succeeded'\n",
    "else:\n",
    "     print 'warp_2 failed' \n",
    "\n",
    "out_merge_path = '/Users/yjiang/Downloads/alos/out_merge.tif'\n",
    "ret = subprocess.check_call(['gdal_merge.py', '-init', '0', '-n', '0', '-o', out_merge_path, out_path_1, out_path_2])\n",
    "if ret == 0: \n",
    "    print 'merge succeeded'\n",
    "else:\n",
    "    print 'merge failed'"
   ]
  },
  {
   "cell_type": "code",
   "execution_count": 73,
   "metadata": {},
   "outputs": [],
   "source": [
    "def getExtent(img_path):\n",
    "    ds = gdal.Open(img_path, gdal.GA_ReadOnly)\n",
    "    trans = ds.GetGeoTransform()\n",
    "    w = ds.RasterXSize    \n",
    "    h = ds.RasterYSize\n",
    "    minX = trans[0]\n",
    "    maxX = trans[0] + w*trans[1]\n",
    "    minY = trans[3] - h*trans[1]\n",
    "    maxY = trans[3]\n",
    "    return [minX, minY, maxX, maxY]"
   ]
  },
  {
   "cell_type": "code",
   "execution_count": 74,
   "metadata": {},
   "outputs": [],
   "source": [
    "def getOverlap(img1_path, img2_path):\n",
    "    r1 = getExtent(img1_path)\n",
    "    r2 = getExtent(img2_path)\n",
    "    left = max(r1[0], r2[0])\n",
    "    right = min(r1[2], r2[2])\n",
    "    bottom = max(r1[1], r2[1])\n",
    "    top = min(r1[3], r2[3])\n",
    "    return [left, bottom, right, top]\n",
    "\n",
    "overlap = getOverlap(landsat_path, out_merge_path)"
   ]
  },
  {
   "cell_type": "code",
   "execution_count": 75,
   "metadata": {},
   "outputs": [
    {
     "name": "stdout",
     "output_type": "stream",
     "text": [
      "subset_alos succeeded\n"
     ]
    }
   ],
   "source": [
    "radar_subset = '/Users/yjiang/Downloads/alos/alos_subset.tif'\n",
    "ret = subprocess.check_call(['gdalwarp', '-overwrite', '-te', str(overlap[0]), str(overlap[1]), str(overlap[2]), str(overlap[3]), '-of', 'GTiff', out_merge_path, radar_subset])\n",
    "if ret == 0: \n",
    "     print 'subset_alos succeeded'\n",
    "else:\n",
    "     print 'subset_alos failed'"
   ]
  },
  {
   "cell_type": "code",
   "execution_count": 76,
   "metadata": {},
   "outputs": [
    {
     "name": "stdout",
     "output_type": "stream",
     "text": [
      "subset_landsat succeeded\n",
      "subset_landsat succeeded\n",
      "subset_landsat succeeded\n",
      "subset_landsat succeeded\n"
     ]
    }
   ],
   "source": [
    "def subset_landsat(in_dir, basename, band, out_dir):\n",
    "    in_path = '{0}/{1}_{2}.TIF'.format(in_dir, basename, band)\n",
    "    subset_path = '{0}/{1}_subset.TIF'.format(out_dir, band)\n",
    "    ret = subprocess.check_call(['gdalwarp', '-overwrite', '-te', str(overlap[0]), str(overlap[1]), str(overlap[2]), str(overlap[3]), '-of', 'GTiff', in_path, subset_path])\n",
    "    if ret == 0: \n",
    "         print 'subset_landsat succeeded'\n",
    "    else:\n",
    "         print 'subset_landsat failed'\n",
    "\n",
    "band1 = 'B1'\n",
    "band2 = 'B2'\n",
    "band3 = 'B3'\n",
    "band4 = 'B4'\n",
    "in_path = '/Users/yjiang/Downloads/landsat'\n",
    "out_path = '/Users/yjiang/Downloads/landsat'\n",
    "basename = 'LE07_L1TP_118061_20100813_20161213_01_T1'\n",
    "subset_landsat(in_path, basename, band1, out_path)\n",
    "subset_landsat(in_path, basename, band2, out_path)\n",
    "subset_landsat(in_path, basename, band3, out_path)\n",
    "subset_landsat(in_path, basename, band4, out_path)"
   ]
  },
  {
   "cell_type": "code",
   "execution_count": 77,
   "metadata": {},
   "outputs": [
    {
     "name": "stdout",
     "output_type": "stream",
     "text": [
      "(3292, 3110)\n"
     ]
    }
   ],
   "source": [
    "def read(img_path):\n",
    "    dataset = gdal.Open(img_path, gdal.GA_ReadOnly )\n",
    "    return dataset\n",
    "\n",
    "green_ds = read('{0}/{1}_subset.TIF'.format(out_path, band1))\n",
    "blue_ds = read('{0}/{1}_subset.TIF'.format(out_path, band2))\n",
    "red_ds = read('{0}/{1}_subset.TIF'.format(out_path, band3))\n",
    "nir_ds = read('{0}/{1}_subset.TIF'.format(out_path, band4))\n",
    "radar_ds = read(radar_subset)\n",
    "\n",
    "green = green_ds.GetRasterBand(1).ReadAsArray()\n",
    "blue = blue_ds.GetRasterBand(1).ReadAsArray()\n",
    "red = red_ds.GetRasterBand(1).ReadAsArray()\n",
    "nir = nir_ds.GetRasterBand(1).ReadAsArray()\n",
    "radar = radar_ds.GetRasterBand(1).ReadAsArray()\n",
    "img = np.zeros((nir_ds.RasterYSize, nir_ds.RasterXSize, 5), gdal_array.GDALTypeCodeToNumericTypeCode(red_ds.GetRasterBand(1).DataType))\n",
    "img[:, :, 0] = green\n",
    "img[:, :, 1] = blue\n",
    "img[:, :, 2] = red\n",
    "img[:, :, 3] = nir\n",
    "img[:, :, 4] = radar\n",
    "print radar.shape"
   ]
  },
  {
   "cell_type": "code",
   "execution_count": 78,
   "metadata": {},
   "outputs": [
    {
     "data": {
      "image/png": "[encoded data removed]",
      "text/plain": [
       "<Figure size 432x288 with 1 Axes>"
      ]
     },
     "metadata": {},
     "output_type": "display_data"
    }
   ],
   "source": [
    "def array_to_raster(array, output_path, ref_path):    \n",
    "    Image = gdal.Open(ref_path, gdal.GA_ReadOnly)     \n",
    "\n",
    "    Output = gdal.GetDriverByName('GTiff').Create(output_path, Image.RasterXSize, Image.RasterYSize, 1, gdal.GDT_Float32, options=['COMPRESS=DEFLATE'])\n",
    "    Output.SetProjection(Image.GetProjectionRef())\n",
    "    Output.SetGeoTransform(Image.GetGeoTransform()) \n",
    "    Output.GetRasterBand(1).WriteArray(array)\n",
    "    Output.FlushCache()  # Write to disk.\n",
    "\n",
    "# now you can save it to a file\n",
    "model_path = '/Users/yjiang/Documents/pythonWorkspace/treemap/Data/model_radar_1.joblib'\n",
    "model = joblib.load(model_path)\n",
    "\n",
    "rows = img.shape[0]\n",
    "cols = img.shape[1]\n",
    "band_num = img.shape[2]\n",
    "\n",
    "# create mask image\n",
    "mask_landsat = np.zeros((rows, cols))\n",
    "mask_landsat[img[:, :, 0]>0] = 1\n",
    "\n",
    "mask_radar = np.zeros((rows, cols))\n",
    "mask_radar[img[:, :, 4]>0] = 1\n",
    "\n",
    "mask = mask_landsat*mask_radar\n",
    "\n",
    "# making prediction, save and print the output\n",
    "predict = model.predict(img.reshape(cols*rows, band_num))\n",
    "output = predict.reshape(rows, cols)*mask\n",
    "\n",
    "plt.imshow(output, cmap=plt.cm.Spectral)\n",
    "path = '/Users/yjiang/Downloads/landsat/classification.tif'\n",
    "# io.imsave(path, output)\n",
    "array_to_raster(output, path, radar_subset)\n",
    "plt.show()"
   ]
  },
  {
   "cell_type": "code",
   "execution_count": null,
   "metadata": {
    "collapsed": true
   },
   "outputs": [],
   "source": []
  }
 ],
 "metadata": {
  "kernelspec": {
   "display_name": "Python 2",
   "language": "python",
   "name": "python2"
  },
  "language_info": {
   "codemirror_mode": {
    "name": "ipython",
    "version": 2
   },
   "file_extension": ".py",
   "mimetype": "text/x-python",
   "name": "python",
   "nbconvert_exporter": "python",
   "pygments_lexer": "ipython2",
   "version": "2.7.15"
  }
 },
 "nbformat": 4,
 "nbformat_minor": 2
}
